{
  "cells": [
    {
      "cell_type": "markdown",
      "metadata": {
        "id": "PWsBsYhGxwWp"
      },
      "source": [
        "# 1. Problem Introduction\n",
        "\n",
        "Hey there! In this project, I'm diving into the cool world of sketch recognition, inspired by Google's QuickDraw game. My aim is to build a sketch classification model that can accurately identify animal categories from this dataset. To make this happen, I'll be using popular tools like numpy, TensorFlow, scikit-learn, and pandas.\n",
        "\n",
        "The dataset I'll be using is the The QuickDraw dataset (https://console.cloud.google.com/storage/browser/quickdraw_dataset/full/simplified). It's a treasure trove of simplified drawings collected through the online game, \"Quick, Draw!\". It's a fantastic resource for training machine learning models that can recognize and classify sketches.\n",
        "\n",
        "I've broken down the project into five parts, all in a Jupyter Notebook:\n",
        "1. **Problem Introduction**: You're reading it! Introducing the problem and tools I'll use.\n",
        "2. **Proposed Solution**: I'll outline my approach, including the model architecture, pre-processing, and optimization techniques.\n",
        "3. **Experimental Setup**: I'll discuss how I get the data, create my dataset, and evaluate my model.\n",
        "4. **Results**: I'll showcase how well my model did with stats, figures, and plots.\n",
        "5. **Conclusion**: I'll wrap up, talk about what my work means, and suggest future improvements.\n",
        "\n",
        "By following this plan, I hope to create a powerful sketch classification model that's easy to understand and can help push the boundaries of sketch recognition! (not really)"
      ]
    },
    {
      "cell_type": "code",
      "source": [
        "from google.colab import drive\n",
        "drive.mount('/content/drive')"
      ],
      "metadata": {
        "colab": {
          "base_uri": "https://localhost:8080/"
        },
        "id": "dd7PDYvix6g3",
        "outputId": "f10a527a-191d-4a8d-cbc9-fb530ff66210"
      },
      "execution_count": 1,
      "outputs": [
        {
          "output_type": "stream",
          "name": "stdout",
          "text": [
            "Drive already mounted at /content/drive; to attempt to forcibly remount, call drive.mount(\"/content/drive\", force_remount=True).\n"
          ]
        }
      ]
    },
    {
      "cell_type": "markdown",
      "metadata": {
        "id": "5_A2mAm-xwWs"
      },
      "source": [
        "# 2. Proposed Solution\n",
        "\n",
        "Great! Now that we have a clear understanding of the problem, let's dive into our proposed solution. We'll outline the main components, such as using the dataset, building our neural network with TensorFlow, and selecting appropriate activation functions.\n",
        "\n",
        "## Dataset\n",
        "The QuickDraw dataset is available at https://console.cloud.google.com/storage/browser/quickdraw_dataset/full/simplified. It contains numerous `.ndjson` files, each representing a category of doodles. Since we're focusing on animal categories, we'll handpick a few of these files (e.g., 'cat.ndjson', 'dog.ndjson', 'elephant.ndjson', etc.) and download them to our project directory.\n",
        "\n",
        "To load and integrate the dataset into our project, we'll use Python's `json` library to parse the `.ndjson` files, and pandas to store the data in a structured format. We'll preprocess the data by normalizing the sketches, resizing them to a standard size, and converting them into NumPy arrays for further processing.\n",
        "\n",
        "## Neural Network Architecture\n",
        "We'll use TensorFlow to build our neural network, which will be a Convolutional Neural Network (CNN) due to its excellent performance in image recognition tasks. Here's a high-level overview of the architecture:\n",
        "\n",
        "1. Input Layer: Takes in the preprocessed sketches as input.\n",
        "2. Convolutional Layer 1: Applies a set of filters to the input to capture local patterns in the images. We'll use the ReLU activation function for its non-linear properties and ability to mitigate the vanishing gradient problem.\n",
        "3. Pooling Layer 1: Reduces the spatial dimensions of the convolutional layer's output using max-pooling.\n",
        "4. Convolutional Layer 2: Applies another set of filters to capture more complex patterns. We'll use the ReLU activation function again.\n",
        "5. Pooling Layer 2: Further reduces the spatial dimensions using max-pooling.\n",
        "6. Flatten Layer: Flattens the output of the previous layer into a one-dimensional vector.\n",
        "7. Fully Connected Layer (Dense): A fully connected layer to learn global patterns in the data. We'll use the ReLU activation function.\n",
        "8. Output Layer: Produces the final classification probabilities for each animal category using the softmax activation function.\n",
        "\n",
        "This architecture provides a good balance between complexity and performance. However, feel free to experiment with the number of layers, filters, and other hyperparameters to find the optimal configuration for our task.\n",
        "\n",
        "## Training and Evaluation\n",
        "We'll split our dataset into training and validation sets to monitor the model's performance during training. We'll use categorical cross-entropy as our loss function since it's suitable for multi-class classification problems. To optimize the model, we'll use the Adam optimizer, which is a popular choice for its adaptability and efficiency.\n",
        "\n",
        "We'll train our model for several epochs while monitoring the validation accuracy and loss. To prevent overfitting, we can implement early stopping or dropout layers in our network. Finally, we'll visualize the training progress with plots and evaluate the model's performance on a separate test set.\n",
        "\n",
        "With this proposed solution, we aim to build an efficient sketch classification model that can accurately identify animal categories from the QuickDraw dataset. Let's move forward with the experimental setup and bring our solution to life!"
      ]
    },
    {
      "cell_type": "markdown",
      "metadata": {
        "id": "FByndOBMxwWt"
      },
      "source": [
        "# 3. Experimental Setup\n",
        "\n",
        "### Data Loading and Preprocessing\n",
        "\n",
        "First, let's load the animal dataset files from the `/data` directory. We'll use the `ndjson` library to read the `.ndjson` files, and pandas to store the data in a structured format."
      ]
    },
    {
      "cell_type": "code",
      "source": [
        "!pip install ndjson"
      ],
      "metadata": {
        "colab": {
          "base_uri": "https://localhost:8080/"
        },
        "id": "86IlqlEdz44I",
        "outputId": "222bb376-c5a4-407e-9f82-dd9174267c24"
      },
      "execution_count": 2,
      "outputs": [
        {
          "output_type": "stream",
          "name": "stdout",
          "text": [
            "Looking in indexes: https://pypi.org/simple, https://us-python.pkg.dev/colab-wheels/public/simple/\n",
            "Requirement already satisfied: ndjson in /usr/local/lib/python3.10/dist-packages (0.3.1)\n"
          ]
        }
      ]
    },
    {
      "cell_type": "code",
      "execution_count": 3,
      "metadata": {
        "id": "MAKvrh4SxwWt"
      },
      "outputs": [],
      "source": [
        "import os\n",
        "# import json\n",
        "import ndjson\n",
        "import pandas as pd\n",
        "import numpy as np\n",
        "# os.environ[\"KERAS_BACKEND\"] = \"plaidml.keras.backend\"\n",
        "\n",
        "\n",
        "data_dir = \"/content/drive/MyDrive/CS-490/sketch-classifier-DL/data\"\n",
        "# categories = [\"ant\", \"bear\", \"cat\", \"dog\", \"elephant\"]  # Add or modify the list to include the animal categories you've downloaded\n",
        "categories = [\"ant\", \"bat\", \"bear\", \"bee\", \"bird\"] \n",
        "# categories = [\"ant\", \"bat\"] \n",
        "data = []\n",
        "examples_per_category = 2500\n",
        "\n",
        "for category in categories:\n",
        "    file_path = os.path.join(data_dir, f\"full_simplified_{category}.ndjson\")\n",
        "    with open(file_path) as f:\n",
        "        drawings = ndjson.load(f)\n",
        "        for i, drawing in enumerate(drawings):\n",
        "            if i >= examples_per_category:\n",
        "                break\n",
        "            data.append({\"category\": category, \"drawing\": drawing[\"drawing\"]})\n",
        "\n",
        "data_df = pd.DataFrame(data)\n"
      ]
    },
    {
      "cell_type": "code",
      "execution_count": 4,
      "metadata": {
        "id": "Ni72yV_pxwWv"
      },
      "outputs": [],
      "source": [
        "import tensorflow as tf"
      ]
    },
    {
      "cell_type": "markdown",
      "metadata": {
        "id": "0VpDixPgxwWv"
      },
      "source": [
        "Now, let's preprocess the data by normalizing the sketches, resizing them to a standard size, and converting them into NumPy arrays. We'll use the `cv2` library to help us with the resizing process."
      ]
    },
    {
      "cell_type": "code",
      "execution_count": 5,
      "metadata": {
        "id": "FA5yuvhBxwWw"
      },
      "outputs": [],
      "source": [
        "import cv2\n",
        "\n",
        "def drawing_to_np_array(drawing, img_size=256):\n",
        "    img = np.zeros((img_size, img_size), dtype=np.uint8)\n",
        "    \n",
        "    for stroke in drawing:\n",
        "        stroke_coords = np.array(stroke).T\n",
        "        for i in range(len(stroke_coords) - 1):\n",
        "            x0, y0 = stroke_coords[i]\n",
        "            x1, y1 = stroke_coords[i + 1]\n",
        "            img = cv2.line(img, (x0, y0), (x1, y1), 255, 2)\n",
        "    \n",
        "    return img\n",
        "\n",
        "data_df[\"img\"] = data_df[\"drawing\"].apply(lambda x: drawing_to_np_array(x))"
      ]
    },
    {
      "cell_type": "markdown",
      "metadata": {
        "id": "1vihT-wvxwWw"
      },
      "source": [
        "Next, let's split the dataset into training, validation, and testing sets, and convert the labels into one-hot encoded format using scikit-learn's `LabelBinarizer`."
      ]
    },
    {
      "cell_type": "code",
      "execution_count": 6,
      "metadata": {
        "id": "rZfRZqf6xwWw"
      },
      "outputs": [],
      "source": [
        "from sklearn.model_selection import train_test_split\n",
        "from sklearn.preprocessing import LabelBinarizer\n",
        "\n",
        "X = np.stack(data_df[\"img\"].values, axis=0)\n",
        "X = X.reshape(X.shape[0], 256, 256, 1)  # Add a channel dimension\n",
        "# X = X / 255.0  # Normalize pixel values\n",
        "\n",
        "y = data_df[\"category\"].values\n",
        "lb = LabelBinarizer()\n",
        "y = lb.fit_transform(y)\n",
        "\n",
        "X_train, X_temp, y_train, y_temp = train_test_split(X, y, test_size=0.3, stratify=y, random_state=42)\n",
        "X_val, X_test, y_val, y_test = train_test_split(X_temp, y_temp, test_size=0.5, stratify=y_temp, random_state=42)"
      ]
    },
    {
      "cell_type": "markdown",
      "source": [
        "Data augmentation to add more training examples in an attempt to reduce overfitting"
      ],
      "metadata": {
        "id": "ydCQXgWgHUms"
      }
    },
    {
      "cell_type": "code",
      "source": [
        "from tensorflow.keras.preprocessing.image import ImageDataGenerator\n",
        "\n",
        "# Data augmentation settings\n",
        "augmentation = ImageDataGenerator(\n",
        "    rotation_range=20,\n",
        "    width_shift_range=0.2,\n",
        "    height_shift_range=0.2,\n",
        "    shear_range=0.2,\n",
        "    zoom_range=0.2,\n",
        "    horizontal_flip=True,\n",
        "    fill_mode='nearest'\n",
        ")\n",
        "\n",
        "# Create a generator for the training set\n",
        "train_generator = augmentation.flow(\n",
        "    X_train, y_train, batch_size=64\n",
        ")\n",
        "\n",
        "# Create a generator for the validation set (without augmentation)\n",
        "val_generator = ImageDataGenerator().flow(\n",
        "    X_val, y_val, batch_size=64\n",
        ")\n"
      ],
      "metadata": {
        "id": "0pE3Z8aiHRB0"
      },
      "execution_count": 7,
      "outputs": []
    },
    {
      "cell_type": "markdown",
      "metadata": {
        "id": "UhXgD09LxwWw"
      },
      "source": [
        "### Building the CNN Model\n",
        "\n",
        "Now that our data is prepared, let's build the CNN model using TensorFlow."
      ]
    },
    {
      "cell_type": "code",
      "source": [
        "from tensorflow.keras.regularizers import l2"
      ],
      "metadata": {
        "id": "AKS96FN_KC-W"
      },
      "execution_count": 8,
      "outputs": []
    },
    {
      "cell_type": "code",
      "execution_count": 9,
      "metadata": {
        "id": "gSStwx5IxwWw"
      },
      "outputs": [],
      "source": [
        "# model = tf.keras.Sequential([\n",
        "#     tf.keras.layers.Input(shape=(256, 256, 1)),\n",
        "#     tf.keras.layers.Conv2D(16, (3, 3), activation='relu'),\n",
        "#     tf.keras.layers.MaxPooling2D((2, 2)),\n",
        "#     tf.keras.layers.Conv2D(32, (3, 3), activation='relu'),\n",
        "#     tf.keras.layers.MaxPooling2D((2, 2)),\n",
        "#     tf.keras.layers.Flatten(),\n",
        "#     tf.keras.layers.Dense(64, activation='relu'),\n",
        "#     tf.keras.layers.Dense(len(categories), activation='softmax')\n",
        "# ])\n",
        "\n",
        "# model.compile(optimizer='adam', loss='categorical_crossentropy', metrics=['accuracy'])\n",
        "\n",
        "\n",
        "# model = tf.keras.Sequential([\n",
        "#     tf.keras.layers.Input(shape=(256, 256, 1)),\n",
        "#     tf.keras.layers.Conv2D(32, (3, 3), activation='relu'),\n",
        "#     tf.keras.layers.MaxPooling2D((2, 2)),\n",
        "#     tf.keras.layers.Conv2D(64, (3, 3), activation='relu'),\n",
        "#     tf.keras.layers.MaxPooling2D((2, 2)),\n",
        "#     tf.keras.layers.Conv2D(64, (3, 3), activation='relu'),\n",
        "#     tf.keras.layers.MaxPooling2D((2, 2)),\n",
        "#     tf.keras.layers.Flatten(),\n",
        "#     tf.keras.layers.Dense(128, activation='relu'),\n",
        "#     tf.keras.layers.Dense(len(categories), activation='softmax')\n",
        "# ])\n",
        "\n",
        "model = tf.keras.Sequential([\n",
        "    tf.keras.layers.Input(shape=(256, 256, 1)),\n",
        "    tf.keras.layers.Conv2D(32, (3, 3), activation='relu'),\n",
        "    tf.keras.layers.MaxPooling2D((2, 2)),\n",
        "    tf.keras.layers.Conv2D(64, (3, 3), activation='relu'),\n",
        "    tf.keras.layers.MaxPooling2D((2, 2)),\n",
        "    tf.keras.layers.Conv2D(64, (3, 3), activation='relu'),\n",
        "    tf.keras.layers.MaxPooling2D((2, 2)),\n",
        "    tf.keras.layers.Flatten(),\n",
        "    tf.keras.layers.Dense(128, activation='relu', kernel_regularizer=l2(0.001)),  # regularization\n",
        "    tf.keras.layers.Dense(len(categories), activation='softmax')\n",
        "])\n",
        "# model = tf.keras.Sequential([\n",
        "#     tf.keras.layers.Input(shape=(128, 128, 1)),\n",
        "#     tf.keras.layers.Conv2D(32, (3, 3), activation='relu', padding='same'),\n",
        "#     tf.keras.layers.BatchNormalization(),\n",
        "#     tf.keras.layers.Conv2D(32, (3, 3), activation='relu', padding='same'),\n",
        "#     tf.keras.layers.BatchNormalization(),\n",
        "#     tf.keras.layers.MaxPooling2D((2, 2)),\n",
        "#     tf.keras.layers.Dropout(0.25),\n",
        "\n",
        "#     tf.keras.layers.Conv2D(64, (3, 3), activation='relu', padding='same'),\n",
        "#     tf.keras.layers.BatchNormalization(),\n",
        "#     tf.keras.layers.Conv2D(64, (3, 3), activation='relu', padding='same'),\n",
        "#     tf.keras.layers.BatchNormalization(),\n",
        "#     tf.keras.layers.MaxPooling2D((2, 2)),\n",
        "#     tf.keras.layers.Dropout(0.25),\n",
        "\n",
        "#     tf.keras.layers.Conv2D(128, (3, 3), activation='relu', padding='same'),\n",
        "#     tf.keras.layers.BatchNormalization(),\n",
        "#     tf.keras.layers.Conv2D(128, (3, 3), activation='relu', padding='same'),\n",
        "#     tf.keras.layers.BatchNormalization(),\n",
        "#     tf.keras.layers.MaxPooling2D((2, 2)),\n",
        "#     tf.keras.layers.Dropout(0.25),\n",
        "\n",
        "#     tf.keras.layers.Flatten(),\n",
        "#     tf.keras.layers.Dense(256, activation='relu', kernel_regularizer=l2(0.001)),\n",
        "#     tf.keras.layers.BatchNormalization(),\n",
        "#     tf.keras.layers.Dropout(0.5),\n",
        "#     tf.keras.layers.Dense(len(categories), activation='softmax')\n",
        "# ])\n",
        "\n",
        "model.compile(optimizer='adam', loss='categorical_crossentropy', metrics=['accuracy'])\n"
      ]
    },
    {
      "cell_type": "markdown",
      "source": [
        "### Learning Rate Scheduling\n",
        "Using learning rate scheduling to adjust the learning rate during training. The technique reduces the learning rate when the validation loss stops improving."
      ],
      "metadata": {
        "id": "G8Klg-HCUaCU"
      }
    },
    {
      "cell_type": "code",
      "source": [
        "reduce_lr = tf.keras.callbacks.ReduceLROnPlateau(monitor='val_loss', factor=0.2, patience=5, min_lr=0.001)"
      ],
      "metadata": {
        "id": "E5kOuGC4Us65"
      },
      "execution_count": 10,
      "outputs": []
    },
    {
      "cell_type": "markdown",
      "metadata": {
        "id": "---EfCzYxwWx"
      },
      "source": [
        "### Training the Model\n",
        "\n",
        "Now, let's train our model using the training and validation datasets."
      ]
    },
    {
      "cell_type": "code",
      "execution_count": 11,
      "metadata": {
        "id": "2Z1RkaQUxwWx",
        "colab": {
          "base_uri": "https://localhost:8080/"
        },
        "outputId": "279e2a4c-40b5-4b28-ea83-8b32a07dd5d1"
      },
      "outputs": [
        {
          "output_type": "stream",
          "name": "stdout",
          "text": [
            "Epoch 1/35\n",
            "136/136 [==============================] - 62s 349ms/step - loss: 5.2091 - accuracy: 0.2929 - val_loss: 1.7395 - val_accuracy: 0.4515 - lr: 0.0010\n",
            "Epoch 2/35\n",
            "136/136 [==============================] - 46s 335ms/step - loss: 1.7778 - accuracy: 0.4077 - val_loss: 1.5546 - val_accuracy: 0.5216 - lr: 0.0010\n",
            "Epoch 3/35\n",
            "136/136 [==============================] - 44s 321ms/step - loss: 1.6420 - accuracy: 0.4671 - val_loss: 1.4253 - val_accuracy: 0.5792 - lr: 0.0010\n",
            "Epoch 4/35\n",
            "136/136 [==============================] - 44s 320ms/step - loss: 1.5668 - accuracy: 0.4868 - val_loss: 1.3812 - val_accuracy: 0.5867 - lr: 0.0010\n",
            "Epoch 5/35\n",
            "136/136 [==============================] - 46s 334ms/step - loss: 1.5110 - accuracy: 0.5056 - val_loss: 1.2644 - val_accuracy: 0.6298 - lr: 0.0010\n",
            "Epoch 6/35\n",
            "136/136 [==============================] - 45s 327ms/step - loss: 1.4629 - accuracy: 0.5203 - val_loss: 1.2448 - val_accuracy: 0.6433 - lr: 0.0010\n",
            "Epoch 7/35\n",
            "136/136 [==============================] - 45s 332ms/step - loss: 1.4005 - accuracy: 0.5526 - val_loss: 1.2181 - val_accuracy: 0.6433 - lr: 0.0010\n",
            "Epoch 8/35\n",
            "136/136 [==============================] - 46s 336ms/step - loss: 1.3541 - accuracy: 0.5703 - val_loss: 1.2708 - val_accuracy: 0.6395 - lr: 0.0010\n",
            "Epoch 9/35\n",
            "136/136 [==============================] - 44s 325ms/step - loss: 1.2906 - accuracy: 0.6042 - val_loss: 1.1468 - val_accuracy: 0.6967 - lr: 0.0010\n",
            "Epoch 10/35\n",
            "136/136 [==============================] - 44s 323ms/step - loss: 1.2546 - accuracy: 0.6103 - val_loss: 1.0548 - val_accuracy: 0.7144 - lr: 0.0010\n",
            "Epoch 11/35\n",
            "136/136 [==============================] - 46s 337ms/step - loss: 1.1903 - accuracy: 0.6434 - val_loss: 1.0358 - val_accuracy: 0.7306 - lr: 0.0010\n",
            "Epoch 12/35\n",
            "136/136 [==============================] - 45s 328ms/step - loss: 1.1574 - accuracy: 0.6664 - val_loss: 1.0446 - val_accuracy: 0.7322 - lr: 0.0010\n",
            "Epoch 13/35\n",
            "136/136 [==============================] - 45s 333ms/step - loss: 1.1466 - accuracy: 0.6654 - val_loss: 1.0075 - val_accuracy: 0.7381 - lr: 0.0010\n",
            "Epoch 14/35\n",
            "136/136 [==============================] - 44s 326ms/step - loss: 1.1172 - accuracy: 0.6721 - val_loss: 0.9609 - val_accuracy: 0.7495 - lr: 0.0010\n",
            "Epoch 15/35\n",
            "136/136 [==============================] - 44s 322ms/step - loss: 1.0958 - accuracy: 0.6812 - val_loss: 1.0874 - val_accuracy: 0.7311 - lr: 0.0010\n",
            "Epoch 16/35\n",
            "136/136 [==============================] - 46s 335ms/step - loss: 1.0776 - accuracy: 0.6907 - val_loss: 0.9873 - val_accuracy: 0.7452 - lr: 0.0010\n",
            "Epoch 17/35\n",
            "136/136 [==============================] - 46s 335ms/step - loss: 1.0644 - accuracy: 0.6957 - val_loss: 0.9626 - val_accuracy: 0.7538 - lr: 0.0010\n",
            "Epoch 18/35\n",
            "136/136 [==============================] - 45s 329ms/step - loss: 1.0495 - accuracy: 0.6942 - val_loss: 0.8912 - val_accuracy: 0.7710 - lr: 0.0010\n",
            "Epoch 19/35\n",
            "136/136 [==============================] - 44s 324ms/step - loss: 1.0391 - accuracy: 0.7012 - val_loss: 0.9974 - val_accuracy: 0.7387 - lr: 0.0010\n",
            "Epoch 20/35\n",
            "136/136 [==============================] - 47s 347ms/step - loss: 1.0557 - accuracy: 0.7002 - val_loss: 0.9247 - val_accuracy: 0.7667 - lr: 0.0010\n",
            "Epoch 21/35\n",
            "136/136 [==============================] - 45s 327ms/step - loss: 1.0324 - accuracy: 0.7071 - val_loss: 0.8940 - val_accuracy: 0.7802 - lr: 0.0010\n",
            "Epoch 22/35\n",
            "136/136 [==============================] - 44s 323ms/step - loss: 1.0180 - accuracy: 0.7052 - val_loss: 0.9347 - val_accuracy: 0.7608 - lr: 0.0010\n",
            "Epoch 23/35\n",
            "136/136 [==============================] - 46s 338ms/step - loss: 1.0164 - accuracy: 0.7102 - val_loss: 0.9865 - val_accuracy: 0.7613 - lr: 0.0010\n",
            "Epoch 24/35\n",
            "136/136 [==============================] - 43s 319ms/step - loss: 1.0217 - accuracy: 0.7087 - val_loss: 0.9568 - val_accuracy: 0.7581 - lr: 0.0010\n",
            "Epoch 25/35\n",
            "136/136 [==============================] - 44s 321ms/step - loss: 1.0094 - accuracy: 0.7099 - val_loss: 0.9404 - val_accuracy: 0.7726 - lr: 0.0010\n",
            "Epoch 26/35\n",
            "136/136 [==============================] - 43s 318ms/step - loss: 1.0031 - accuracy: 0.7157 - val_loss: 0.9252 - val_accuracy: 0.7796 - lr: 0.0010\n",
            "Epoch 27/35\n",
            "136/136 [==============================] - 45s 328ms/step - loss: 0.9974 - accuracy: 0.7154 - val_loss: 0.9244 - val_accuracy: 0.7872 - lr: 0.0010\n",
            "Epoch 28/35\n",
            "136/136 [==============================] - 43s 319ms/step - loss: 0.9921 - accuracy: 0.7210 - val_loss: 0.9062 - val_accuracy: 0.7807 - lr: 0.0010\n",
            "Epoch 29/35\n",
            "136/136 [==============================] - 44s 325ms/step - loss: 1.0058 - accuracy: 0.7224 - val_loss: 0.9065 - val_accuracy: 0.7818 - lr: 0.0010\n",
            "Epoch 30/35\n",
            "136/136 [==============================] - 44s 319ms/step - loss: 0.9887 - accuracy: 0.7261 - val_loss: 0.9740 - val_accuracy: 0.7548 - lr: 0.0010\n",
            "Epoch 31/35\n",
            "136/136 [==============================] - 44s 322ms/step - loss: 0.9813 - accuracy: 0.7261 - val_loss: 0.9432 - val_accuracy: 0.7548 - lr: 0.0010\n",
            "Epoch 32/35\n",
            "136/136 [==============================] - 44s 321ms/step - loss: 0.9772 - accuracy: 0.7273 - val_loss: 0.8835 - val_accuracy: 0.7926 - lr: 0.0010\n",
            "Epoch 33/35\n",
            "136/136 [==============================] - 46s 342ms/step - loss: 0.9701 - accuracy: 0.7361 - val_loss: 0.8702 - val_accuracy: 0.7850 - lr: 0.0010\n",
            "Epoch 34/35\n",
            "136/136 [==============================] - 44s 322ms/step - loss: 0.9698 - accuracy: 0.7289 - val_loss: 0.9294 - val_accuracy: 0.7689 - lr: 0.0010\n",
            "Epoch 35/35\n",
            "136/136 [==============================] - 44s 322ms/step - loss: 0.9646 - accuracy: 0.7323 - val_loss: 0.8787 - val_accuracy: 0.8001 - lr: 0.0010\n"
          ]
        }
      ],
      "source": [
        "epochs = 35  # prev 10\n",
        "batch_size = 64\n",
        "\n",
        "# history = model.fit(\n",
        "#     X_train,\n",
        "#     y_train,\n",
        "#     batch_size=batch_size,\n",
        "#     epochs=epochs,\n",
        "#     validation_data=(X_val, y_val)\n",
        "# )\n",
        "\n",
        "history = model.fit(\n",
        "    train_generator,\n",
        "    steps_per_epoch=len(X_train) // batch_size,\n",
        "    epochs=epochs,\n",
        "    validation_data=val_generator,\n",
        "    validation_steps=len(X_val) // batch_size,\n",
        "    callbacks=[reduce_lr] # learning rate scheduling\n",
        ")\n"
      ]
    },
    {
      "cell_type": "markdown",
      "metadata": {
        "id": "iwcYAWvtxwWx"
      },
      "source": [
        "### Evaluation Procedure\n",
        "\n",
        "After training the model, let's evaluate its performance on the test dataset."
      ]
    },
    {
      "cell_type": "code",
      "execution_count": 12,
      "metadata": {
        "id": "LjEcSBh-xwWx",
        "colab": {
          "base_uri": "https://localhost:8080/"
        },
        "outputId": "0ed634c7-875e-4bd5-8286-8a75944994a1"
      },
      "outputs": [
        {
          "output_type": "stream",
          "name": "stdout",
          "text": [
            "59/59 [==============================] - 2s 18ms/step - loss: 0.9185 - accuracy: 0.7776\n",
            "Test Loss: 0.9185, Test Accuracy: 0.7776\n"
          ]
        }
      ],
      "source": [
        "test_loss, test_accuracy = model.evaluate(X_test, y_test)\n",
        "print(f\"Test Loss: {test_loss:.4f}, Test Accuracy: {test_accuracy:.4f}\")"
      ]
    },
    {
      "cell_type": "markdown",
      "metadata": {
        "id": "4QRcS5bRxwWx"
      },
      "source": [
        "Finally, we can visualize the training progress by plotting the training and validation accuracy and loss over time."
      ]
    },
    {
      "cell_type": "code",
      "execution_count": 13,
      "metadata": {
        "id": "Q7lEdUiXxwWx",
        "colab": {
          "base_uri": "https://localhost:8080/",
          "height": 410
        },
        "outputId": "8001cc54-7aa4-4515-918c-83e0eb65c761"
      },
      "outputs": [
        {
          "output_type": "display_data",
          "data": {
            "text/plain": [
              "<Figure size 1200x400 with 2 Axes>"
            ],
            "image/png": "[encoded data removed]"
          },
          "metadata": {}
        }
      ],
      "source": [
        "import matplotlib.pyplot as plt\n",
        "\n",
        "plt.figure(figsize=(12, 4))\n",
        "epochs_range = range(1, epochs + 1)\n",
        "\n",
        "plt.subplot(1, 2, 1)\n",
        "plt.plot(epochs_range, history.history[\"accuracy\"], label=\"Training Accuracy\")\n",
        "plt.plot(epochs_range, history.history[\"val_accuracy\"], label=\"Validation Accuracy\")\n",
        "plt.xlabel(\"Epoch\")\n",
        "plt.ylabel(\"Accuracy\")\n",
        "plt.legend()\n",
        "plt.title(\"Training and Validation Accuracy\")\n",
        "\n",
        "plt.subplot(1, 2, 2)\n",
        "plt.plot(epochs_range, history.history[\"loss\"], label=\"Training Loss\")\n",
        "plt.plot(epochs_range, history.history[\"val_loss\"], label=\"Validation Loss\")\n",
        "plt.xlabel(\"Epoch\")\n",
        "plt.ylabel(\"Loss\")\n",
        "plt.legend()\n",
        "plt.title(\"Training and Validation Loss\")\n",
        "\n",
        "plt.show()"
      ]
    },
    {
      "cell_type": "markdown",
      "metadata": {
        "id": "n5sKhZ3IxwWy"
      },
      "source": [
        "This concludes the experimental setup and evaluation procedure for our sketch classification model. Depending on the performance, you can further fine-tune the model, adjust hyperparameters, or add more animal categories for a more comprehensive classifier."
      ]
    }
  ],
  "metadata": {
    "kernelspec": {
      "display_name": "Python 3 (ipykernel)",
      "language": "python",
      "name": "python3"
    },
    "language_info": {
      "codemirror_mode": {
        "name": "ipython",
        "version": 3
      },
      "file_extension": ".py",
      "mimetype": "text/x-python",
      "name": "python",
      "nbconvert_exporter": "python",
      "pygments_lexer": "ipython3",
      "version": "3.10.11"
    },
    "colab": {
      "provenance": []
    },
    "accelerator": "GPU",
    "gpuClass": "standard"
  },
  "nbformat": 4,
  "nbformat_minor": 0
}
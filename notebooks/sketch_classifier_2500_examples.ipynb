{
  "cells": [
    {
      "cell_type": "markdown",
      "metadata": {
        "id": "PWsBsYhGxwWp"
      },
      "source": [
        "# 1. Problem Introduction\n",
        "\n",
        "Hey there! In this project, I'm diving into the cool world of sketch recognition, inspired by Google's QuickDraw game. My aim is to build a sketch classification model that can accurately identify animal categories from this dataset. To make this happen, I'll be using popular tools like numpy, TensorFlow, scikit-learn, and pandas.\n",
        "\n",
        "The dataset I'll be using is the The QuickDraw dataset (https://console.cloud.google.com/storage/browser/quickdraw_dataset/full/simplified). It's a treasure trove of simplified drawings collected through the online game, \"Quick, Draw!\". It's a fantastic resource for training machine learning models that can recognize and classify sketches.\n",
        "\n",
        "I've broken down the project into five parts, all in a Jupyter Notebook:\n",
        "1. **Problem Introduction**: You're reading it! Introducing the problem and tools I'll use.\n",
        "2. **Proposed Solution**: I'll outline my approach, including the model architecture, pre-processing, and optimization techniques.\n",
        "3. **Experimental Setup**: I'll discuss how I get the data, create my dataset, and evaluate my model.\n",
        "4. **Results**: I'll showcase how well my model did with stats, figures, and plots.\n",
        "5. **Conclusion**: I'll wrap up, talk about what my work means, and suggest future improvements.\n",
        "\n",
        "By following this plan, I hope to create a powerful sketch classification model that's easy to understand and can help push the boundaries of sketch recognition! (not really)"
      ]
    },
    {
      "cell_type": "code",
      "source": [
        "from google.colab import drive\n",
        "drive.mount('/content/drive')"
      ],
      "metadata": {
        "colab": {
          "base_uri": "https://localhost:8080/"
        },
        "id": "dd7PDYvix6g3",
        "outputId": "013c528d-d203-4167-97b0-e74fe0344414"
      },
      "execution_count": 1,
      "outputs": [
        {
          "output_type": "stream",
          "name": "stdout",
          "text": [
            "Drive already mounted at /content/drive; to attempt to forcibly remount, call drive.mount(\"/content/drive\", force_remount=True).\n"
          ]
        }
      ]
    },
    {
      "cell_type": "markdown",
      "metadata": {
        "id": "5_A2mAm-xwWs"
      },
      "source": [
        "# 2. Proposed Solution\n",
        "\n",
        "Great! Now that we have a clear understanding of the problem, let's dive into our proposed solution. We'll outline the main components, such as using the dataset, building our neural network with TensorFlow, and selecting appropriate activation functions.\n",
        "\n",
        "## Dataset\n",
        "The QuickDraw dataset is available at https://console.cloud.google.com/storage/browser/quickdraw_dataset/full/simplified. It contains numerous `.ndjson` files, each representing a category of doodles. Since we're focusing on animal categories, we'll handpick a few of these files (e.g., 'cat.ndjson', 'dog.ndjson', 'elephant.ndjson', etc.) and download them to our project directory.\n",
        "\n",
        "To load and integrate the dataset into our project, we'll use Python's `json` library to parse the `.ndjson` files, and pandas to store the data in a structured format. We'll preprocess the data by normalizing the sketches, resizing them to a standard size, and converting them into NumPy arrays for further processing.\n",
        "\n",
        "## Neural Network Architecture\n",
        "We'll use TensorFlow to build our neural network, which will be a Convolutional Neural Network (CNN) due to its excellent performance in image recognition tasks. Here's a high-level overview of the architecture:\n",
        "\n",
        "1. Input Layer: Takes in the preprocessed sketches as input.\n",
        "2. Convolutional Layer 1: Applies a set of filters to the input to capture local patterns in the images. We'll use the ReLU activation function for its non-linear properties and ability to mitigate the vanishing gradient problem.\n",
        "3. Pooling Layer 1: Reduces the spatial dimensions of the convolutional layer's output using max-pooling.\n",
        "4. Convolutional Layer 2: Applies another set of filters to capture more complex patterns. We'll use the ReLU activation function again.\n",
        "5. Pooling Layer 2: Further reduces the spatial dimensions using max-pooling.\n",
        "6. Flatten Layer: Flattens the output of the previous layer into a one-dimensional vector.\n",
        "7. Fully Connected Layer (Dense): A fully connected layer to learn global patterns in the data. We'll use the ReLU activation function.\n",
        "8. Output Layer: Produces the final classification probabilities for each animal category using the softmax activation function.\n",
        "\n",
        "This architecture provides a good balance between complexity and performance. However, feel free to experiment with the number of layers, filters, and other hyperparameters to find the optimal configuration for our task.\n",
        "\n",
        "## Training and Evaluation\n",
        "We'll split our dataset into training and validation sets to monitor the model's performance during training. We'll use categorical cross-entropy as our loss function since it's suitable for multi-class classification problems. To optimize the model, we'll use the Adam optimizer, which is a popular choice for its adaptability and efficiency.\n",
        "\n",
        "We'll train our model for several epochs while monitoring the validation accuracy and loss. To prevent overfitting, we can implement early stopping or dropout layers in our network. Finally, we'll visualize the training progress with plots and evaluate the model's performance on a separate test set.\n",
        "\n",
        "With this proposed solution, we aim to build an efficient sketch classification model that can accurately identify animal categories from the QuickDraw dataset. Let's move forward with the experimental setup and bring our solution to life!"
      ]
    },
    {
      "cell_type": "markdown",
      "metadata": {
        "id": "FByndOBMxwWt"
      },
      "source": [
        "# 3. Experimental Setup\n",
        "\n",
        "### Data Loading and Preprocessing\n",
        "\n",
        "First, let's load the animal dataset files from the `/data` directory. We'll use the `ndjson` library to read the `.ndjson` files, and pandas to store the data in a structured format."
      ]
    },
    {
      "cell_type": "code",
      "source": [
        "!pip install ndjson"
      ],
      "metadata": {
        "colab": {
          "base_uri": "https://localhost:8080/"
        },
        "id": "86IlqlEdz44I",
        "outputId": "ee1d478a-4f35-42a4-92ee-deb8c5e0dc24"
      },
      "execution_count": 2,
      "outputs": [
        {
          "output_type": "stream",
          "name": "stdout",
          "text": [
            "Looking in indexes: https://pypi.org/simple, https://us-python.pkg.dev/colab-wheels/public/simple/\n",
            "Requirement already satisfied: ndjson in /usr/local/lib/python3.10/dist-packages (0.3.1)\n"
          ]
        }
      ]
    },
    {
      "cell_type": "code",
      "execution_count": 3,
      "metadata": {
        "id": "MAKvrh4SxwWt"
      },
      "outputs": [],
      "source": [
        "import os\n",
        "# import json\n",
        "import ndjson\n",
        "import pandas as pd\n",
        "import numpy as np\n",
        "# os.environ[\"KERAS_BACKEND\"] = \"plaidml.keras.backend\"\n",
        "\n",
        "\n",
        "data_dir = \"/content/drive/MyDrive/CS-490/sketch-classifier-DL/data\"\n",
        "# categories = [\"ant\", \"bear\", \"cat\", \"dog\", \"elephant\"]  # Add or modify the list to include the animal categories you've downloaded\n",
        "categories = [\"ant\", \"bat\", \"bear\", \"bee\", \"bird\"] \n",
        "data = []\n",
        "examples_per_category = 2500\n",
        "\n",
        "for category in categories:\n",
        "    file_path = os.path.join(data_dir, f\"full_simplified_{category}.ndjson\")\n",
        "    with open(file_path) as f:\n",
        "        drawings = ndjson.load(f)\n",
        "        for i, drawing in enumerate(drawings):\n",
        "            if i >= examples_per_category:\n",
        "                break\n",
        "            data.append({\"category\": category, \"drawing\": drawing[\"drawing\"]})\n",
        "\n",
        "data_df = pd.DataFrame(data)\n"
      ]
    },
    {
      "cell_type": "code",
      "execution_count": 4,
      "metadata": {
        "id": "Ni72yV_pxwWv"
      },
      "outputs": [],
      "source": [
        "import tensorflow as tf"
      ]
    },
    {
      "cell_type": "markdown",
      "metadata": {
        "id": "0VpDixPgxwWv"
      },
      "source": [
        "Now, let's preprocess the data by normalizing the sketches, resizing them to a standard size, and converting them into NumPy arrays. We'll use the `cv2` library to help us with the resizing process."
      ]
    },
    {
      "cell_type": "code",
      "execution_count": 5,
      "metadata": {
        "id": "FA5yuvhBxwWw"
      },
      "outputs": [],
      "source": [
        "import cv2\n",
        "\n",
        "def drawing_to_np_array(drawing, img_size=256):\n",
        "    img = np.zeros((img_size, img_size), dtype=np.uint8)\n",
        "    \n",
        "    for stroke in drawing:\n",
        "        stroke_coords = np.array(stroke).T\n",
        "        for i in range(len(stroke_coords) - 1):\n",
        "            x0, y0 = stroke_coords[i]\n",
        "            x1, y1 = stroke_coords[i + 1]\n",
        "            img = cv2.line(img, (x0, y0), (x1, y1), 255, 2)\n",
        "    \n",
        "    return img\n",
        "\n",
        "data_df[\"img\"] = data_df[\"drawing\"].apply(lambda x: drawing_to_np_array(x))"
      ]
    },
    {
      "cell_type": "markdown",
      "metadata": {
        "id": "1vihT-wvxwWw"
      },
      "source": [
        "Next, let's split the dataset into training, validation, and testing sets, and convert the labels into one-hot encoded format using scikit-learn's `LabelBinarizer`."
      ]
    },
    {
      "cell_type": "code",
      "execution_count": 6,
      "metadata": {
        "id": "rZfRZqf6xwWw"
      },
      "outputs": [],
      "source": [
        "from sklearn.model_selection import train_test_split\n",
        "from sklearn.preprocessing import LabelBinarizer\n",
        "\n",
        "X = np.stack(data_df[\"img\"].values, axis=0)\n",
        "X = X.reshape(X.shape[0], 256, 256, 1)  # Add a channel dimension\n",
        "# X = X / 255.0  # Normalize pixel values\n",
        "\n",
        "y = data_df[\"category\"].values\n",
        "lb = LabelBinarizer()\n",
        "y = lb.fit_transform(y)\n",
        "\n",
        "X_train, X_temp, y_train, y_temp = train_test_split(X, y, test_size=0.3, stratify=y, random_state=42)\n",
        "X_val, X_test, y_val, y_test = train_test_split(X_temp, y_temp, test_size=0.5, stratify=y_temp, random_state=42)"
      ]
    },
    {
      "cell_type": "markdown",
      "source": [
        "Data augmentation to add more training examples in an attempt to reduce overfitting"
      ],
      "metadata": {
        "id": "ydCQXgWgHUms"
      }
    },
    {
      "cell_type": "code",
      "source": [
        "from tensorflow.keras.preprocessing.image import ImageDataGenerator\n",
        "\n",
        "# Data augmentation settings\n",
        "augmentation = ImageDataGenerator(\n",
        "    rotation_range=20,\n",
        "    width_shift_range=0.2,\n",
        "    height_shift_range=0.2,\n",
        "    shear_range=0.2,\n",
        "    zoom_range=0.2,\n",
        "    horizontal_flip=True,\n",
        "    fill_mode='nearest'\n",
        ")\n",
        "\n",
        "# Create a generator for the training set\n",
        "train_generator = augmentation.flow(\n",
        "    X_train, y_train, batch_size=64\n",
        ")\n",
        "\n",
        "# Create a generator for the validation set (without augmentation)\n",
        "val_generator = ImageDataGenerator().flow(\n",
        "    X_val, y_val, batch_size=64\n",
        ")\n"
      ],
      "metadata": {
        "id": "0pE3Z8aiHRB0"
      },
      "execution_count": 7,
      "outputs": []
    },
    {
      "cell_type": "markdown",
      "metadata": {
        "id": "UhXgD09LxwWw"
      },
      "source": [
        "### Building the CNN Model\n",
        "\n",
        "Now that our data is prepared, let's build the CNN model using TensorFlow."
      ]
    },
    {
      "cell_type": "code",
      "source": [
        "from tensorflow.keras.regularizers import l2"
      ],
      "metadata": {
        "id": "AKS96FN_KC-W"
      },
      "execution_count": 8,
      "outputs": []
    },
    {
      "cell_type": "code",
      "execution_count": 9,
      "metadata": {
        "id": "gSStwx5IxwWw"
      },
      "outputs": [],
      "source": [
        "# model = tf.keras.Sequential([\n",
        "#     tf.keras.layers.Input(shape=(256, 256, 1)),\n",
        "#     tf.keras.layers.Conv2D(16, (3, 3), activation='relu'),\n",
        "#     tf.keras.layers.MaxPooling2D((2, 2)),\n",
        "#     tf.keras.layers.Conv2D(32, (3, 3), activation='relu'),\n",
        "#     tf.keras.layers.MaxPooling2D((2, 2)),\n",
        "#     tf.keras.layers.Flatten(),\n",
        "#     tf.keras.layers.Dense(64, activation='relu'),\n",
        "#     tf.keras.layers.Dense(len(categories), activation='softmax')\n",
        "# ])\n",
        "\n",
        "# model.compile(optimizer='adam', loss='categorical_crossentropy', metrics=['accuracy'])\n",
        "\n",
        "\n",
        "# model = tf.keras.Sequential([\n",
        "#     tf.keras.layers.Input(shape=(256, 256, 1)),\n",
        "#     tf.keras.layers.Conv2D(32, (3, 3), activation='relu'),\n",
        "#     tf.keras.layers.MaxPooling2D((2, 2)),\n",
        "#     tf.keras.layers.Conv2D(64, (3, 3), activation='relu'),\n",
        "#     tf.keras.layers.MaxPooling2D((2, 2)),\n",
        "#     tf.keras.layers.Conv2D(64, (3, 3), activation='relu'),\n",
        "#     tf.keras.layers.MaxPooling2D((2, 2)),\n",
        "#     tf.keras.layers.Flatten(),\n",
        "#     tf.keras.layers.Dense(128, activation='relu'),\n",
        "#     tf.keras.layers.Dense(len(categories), activation='softmax')\n",
        "# ])\n",
        "\n",
        "model = tf.keras.Sequential([\n",
        "    tf.keras.layers.Input(shape=(256, 256, 1)),\n",
        "    tf.keras.layers.Conv2D(32, (3, 3), activation='relu'),\n",
        "    tf.keras.layers.MaxPooling2D((2, 2)),\n",
        "    tf.keras.layers.Conv2D(64, (3, 3), activation='relu'),\n",
        "    tf.keras.layers.MaxPooling2D((2, 2)),\n",
        "    tf.keras.layers.Conv2D(64, (3, 3), activation='relu'),\n",
        "    tf.keras.layers.MaxPooling2D((2, 2)),\n",
        "    tf.keras.layers.Flatten(),\n",
        "    tf.keras.layers.Dense(128, activation='relu', kernel_regularizer=l2(0.001)),  # Add L2 regularization here\n",
        "    tf.keras.layers.Dense(len(categories), activation='softmax')\n",
        "])\n",
        "\n",
        "model.compile(optimizer='adam', loss='categorical_crossentropy', metrics=['accuracy'])\n"
      ]
    },
    {
      "cell_type": "markdown",
      "metadata": {
        "id": "---EfCzYxwWx"
      },
      "source": [
        "### Training the Model\n",
        "\n",
        "Now, let's train our model using the training and validation datasets."
      ]
    },
    {
      "cell_type": "code",
      "execution_count": 10,
      "metadata": {
        "colab": {
          "base_uri": "https://localhost:8080/"
        },
        "id": "2Z1RkaQUxwWx",
        "outputId": "80c64f99-949d-4b88-b202-852fde08ffab"
      },
      "outputs": [
        {
          "output_type": "stream",
          "name": "stdout",
          "text": [
            "Epoch 1/10\n",
            "136/136 [==============================] - 60s 339ms/step - loss: 4.2126 - accuracy: 0.3374 - val_loss: 1.7070 - val_accuracy: 0.4709\n",
            "Epoch 2/10\n",
            "136/136 [==============================] - 45s 332ms/step - loss: 1.7252 - accuracy: 0.4419 - val_loss: 1.4949 - val_accuracy: 0.5523\n",
            "Epoch 3/10\n",
            "136/136 [==============================] - 45s 334ms/step - loss: 1.5951 - accuracy: 0.4916 - val_loss: 1.3612 - val_accuracy: 0.5986\n",
            "Epoch 4/10\n",
            "136/136 [==============================] - 44s 325ms/step - loss: 1.5247 - accuracy: 0.5056 - val_loss: 1.3723 - val_accuracy: 0.5900\n",
            "Epoch 5/10\n",
            "136/136 [==============================] - 44s 325ms/step - loss: 1.4200 - accuracy: 0.5571 - val_loss: 1.2473 - val_accuracy: 0.6584\n",
            "Epoch 6/10\n",
            "136/136 [==============================] - 45s 328ms/step - loss: 1.3283 - accuracy: 0.6028 - val_loss: 1.1289 - val_accuracy: 0.7096\n",
            "Epoch 7/10\n",
            "136/136 [==============================] - 46s 336ms/step - loss: 1.2429 - accuracy: 0.6363 - val_loss: 1.1322 - val_accuracy: 0.7047\n",
            "Epoch 8/10\n",
            "136/136 [==============================] - 44s 326ms/step - loss: 1.2165 - accuracy: 0.6415 - val_loss: 1.0482 - val_accuracy: 0.7371\n",
            "Epoch 9/10\n",
            "136/136 [==============================] - 47s 342ms/step - loss: 1.1789 - accuracy: 0.6544 - val_loss: 1.0633 - val_accuracy: 0.7198\n",
            "Epoch 10/10\n",
            "136/136 [==============================] - 45s 330ms/step - loss: 1.1461 - accuracy: 0.6719 - val_loss: 1.0831 - val_accuracy: 0.7355\n"
          ]
        }
      ],
      "source": [
        "epochs = 10  # Adjust the number of epochs as needed\n",
        "batch_size = 64\n",
        "\n",
        "# history = model.fit(\n",
        "#     X_train,\n",
        "#     y_train,\n",
        "#     batch_size=batch_size,\n",
        "#     epochs=epochs,\n",
        "#     validation_data=(X_val, y_val)\n",
        "# )\n",
        "\n",
        "history = model.fit(\n",
        "    train_generator,\n",
        "    steps_per_epoch=len(X_train) // batch_size,\n",
        "    epochs=epochs,\n",
        "    validation_data=val_generator,\n",
        "    validation_steps=len(X_val) // batch_size\n",
        ")\n"
      ]
    },
    {
      "cell_type": "markdown",
      "metadata": {
        "id": "iwcYAWvtxwWx"
      },
      "source": [
        "### Evaluation Procedure\n",
        "\n",
        "After training the model, let's evaluate its performance on the test dataset."
      ]
    },
    {
      "cell_type": "code",
      "execution_count": 11,
      "metadata": {
        "colab": {
          "base_uri": "https://localhost:8080/"
        },
        "id": "LjEcSBh-xwWx",
        "outputId": "b492944a-6cae-4c5f-b70b-d1ee04198369"
      },
      "outputs": [
        {
          "output_type": "stream",
          "name": "stdout",
          "text": [
            "59/59 [==============================] - 2s 17ms/step - loss: 1.1329 - accuracy: 0.7003\n",
            "Test Loss: 1.1329, Test Accuracy: 0.7003\n"
          ]
        }
      ],
      "source": [
        "test_loss, test_accuracy = model.evaluate(X_test, y_test)\n",
        "print(f\"Test Loss: {test_loss:.4f}, Test Accuracy: {test_accuracy:.4f}\")"
      ]
    },
    {
      "cell_type": "markdown",
      "metadata": {
        "id": "4QRcS5bRxwWx"
      },
      "source": [
        "Finally, we can visualize the training progress by plotting the training and validation accuracy and loss over time."
      ]
    },
    {
      "cell_type": "code",
      "execution_count": 12,
      "metadata": {
        "colab": {
          "base_uri": "https://localhost:8080/",
          "height": 404
        },
        "id": "Q7lEdUiXxwWx",
        "outputId": "ddb79e36-65fc-4d85-c22d-39957943350c"
      },
      "outputs": [
        {
          "output_type": "display_data",
          "data": {
            "text/plain": [
              "<Figure size 1200x400 with 2 Axes>"
            ],
            "image/png": "[encoded data removed]"
          },
          "metadata": {}
        }
      ],
      "source": [
        "import matplotlib.pyplot as plt\n",
        "\n",
        "plt.figure(figsize=(12, 4))\n",
        "epochs_range = range(1, epochs + 1)\n",
        "\n",
        "plt.subplot(1, 2, 1)\n",
        "plt.plot(epochs_range, history.history[\"accuracy\"], label=\"Training Accuracy\")\n",
        "plt.plot(epochs_range, history.history[\"val_accuracy\"], label=\"Validation Accuracy\")\n",
        "plt.xlabel(\"Epoch\")\n",
        "plt.ylabel(\"Accuracy\")\n",
        "plt.legend()\n",
        "plt.title(\"Training and Validation Accuracy\")\n",
        "\n",
        "plt.subplot(1, 2, 2)\n",
        "plt.plot(epochs_range, history.history[\"loss\"], label=\"Training Loss\")\n",
        "plt.plot(epochs_range, history.history[\"val_loss\"], label=\"Validation Loss\")\n",
        "plt.xlabel(\"Epoch\")\n",
        "plt.ylabel(\"Loss\")\n",
        "plt.legend()\n",
        "plt.title(\"Training and Validation Loss\")\n",
        "\n",
        "plt.show()"
      ]
    },
    {
      "cell_type": "markdown",
      "metadata": {
        "id": "n5sKhZ3IxwWy"
      },
      "source": [
        "This concludes the experimental setup and evaluation procedure for our sketch classification model. Depending on the performance, you can further fine-tune the model, adjust hyperparameters, or add more animal categories for a more comprehensive classifier."
      ]
    }
  ],
  "metadata": {
    "kernelspec": {
      "display_name": "Python 3 (ipykernel)",
      "language": "python",
      "name": "python3"
    },
    "language_info": {
      "codemirror_mode": {
        "name": "ipython",
        "version": 3
      },
      "file_extension": ".py",
      "mimetype": "text/x-python",
      "name": "python",
      "nbconvert_exporter": "python",
      "pygments_lexer": "ipython3",
      "version": "3.10.11"
    },
    "colab": {
      "provenance": []
    },
    "accelerator": "GPU",
    "gpuClass": "standard"
  },
  "nbformat": 4,
  "nbformat_minor": 0
}